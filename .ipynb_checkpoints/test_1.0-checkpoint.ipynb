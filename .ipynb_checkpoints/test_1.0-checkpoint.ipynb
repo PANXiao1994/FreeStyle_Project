{
 "cells": [
  {
   "cell_type": "code",
   "execution_count": 3,
   "metadata": {},
   "outputs": [],
   "source": [
    "import random\n",
    "import numpy as np\n",
    "import pandas as pd\n",
    "from subprocess import check_output\n",
    "import pronouncing"
   ]
  },
  {
   "cell_type": "code",
   "execution_count": 4,
   "metadata": {
    "collapsed": true
   },
   "outputs": [],
   "source": [
    "data = pd.read_csv('/Users/panxiao/Desktop/Framework of big data/project/lyrics.csv')"
   ]
  },
  {
   "cell_type": "code",
   "execution_count": 10,
   "metadata": {},
   "outputs": [
    {
     "name": "stdout",
     "output_type": "stream",
     "text": [
      "<class 'pandas.core.frame.DataFrame'>\n",
      "RangeIndex: 362237 entries, 0 to 362236\n",
      "Data columns (total 6 columns):\n",
      "index     362237 non-null int64\n",
      "song      362235 non-null object\n",
      "year      362237 non-null int64\n",
      "artist    362237 non-null object\n",
      "genre     362237 non-null object\n",
      "lyrics    266557 non-null object\n",
      "dtypes: int64(2), object(4)\n",
      "memory usage: 16.6+ MB\n"
     ]
    }
   ],
   "source": [
    "data.info()"
   ]
  },
  {
   "cell_type": "code",
   "execution_count": 9,
   "metadata": {},
   "outputs": [
    {
     "data": {
      "text/plain": [
       "['Oh baby, how you doing?',\n",
       " \"You know I'm gonna cut right to the chase\",\n",
       " 'Some women were made but me, myself',\n",
       " 'I like to think that I was created for a special purpose',\n",
       " \"You know, what's more special than you? You feel me\",\n",
       " \"It's on baby, let's get lost\",\n",
       " \"You don't need to call into work 'cause you're the boss\",\n",
       " 'For real, want you to show me how you feel',\n",
       " \"I consider myself lucky, that's a big deal\",\n",
       " 'Why? Well, you got the key to my heart',\n",
       " \"But you ain't gonna need it, I'd rather you open up my body\",\n",
       " \"And show me secrets, you didn't know was inside\",\n",
       " 'No need for me to lie',\n",
       " \"It's too big, it's too wide\",\n",
       " \"It's too strong, it won't fit\",\n",
       " \"It's too much, it's too tough\",\n",
       " \"He talk like this 'cause he can back it up\",\n",
       " 'He got a big ego, such a huge ego',\n",
       " \"I love his big ego, it's too much\",\n",
       " \"He walk like this 'cause he can back it up\",\n",
       " \"Usually I'm humble, right now I don't choose\",\n",
       " 'You can leave with me or you could have the blues',\n",
       " 'Some call it arrogant, I call it confident',\n",
       " \"You decide when you find on what I'm working with\",\n",
       " \"Damn I know I'm killing you with them legs\",\n",
       " 'Better yet them thighs',\n",
       " \"Matter a fact it's my smile or maybe my eyes\",\n",
       " 'Boy you a site to see, kind of something like me',\n",
       " \"It's too big, it's too wide\",\n",
       " \"It's too strong, it won't fit\",\n",
       " \"It's too much, it's too tough\",\n",
       " \"I talk like this 'cause I can back it up\",\n",
       " 'I got a big ego, such a huge ego',\n",
       " \"But he love my big ego, it's too much\",\n",
       " \"I walk like this 'cause I can back it up\",\n",
       " \"I, I walk like this 'cause I can back it up\",\n",
       " \"I, I talk like this 'cause I can back it up\",\n",
       " 'I, I can back it up, I can back it up',\n",
       " \"I walk like this 'cause I can back it up\",\n",
       " \"It's too big, it's too wide\",\n",
       " \"It's too strong, it won't fit\",\n",
       " \"It's too much, it's too tough\",\n",
       " \"He talk like this 'cause he can back it up\",\n",
       " 'He got a big ego, such a huge ego, such a huge ego',\n",
       " \"I love his big ego, it's too much\",\n",
       " \"He walk like this 'cause he can back it up\",\n",
       " 'Ego so big, you must admit',\n",
       " \"I got every reason to feel like I'm that bitch\",\n",
       " \"Ego so strong, if you ain't know\",\n",
       " \"I don't need no beat, I can sing it with piano\"]"
      ]
     },
     "execution_count": 9,
     "metadata": {},
     "output_type": "execute_result"
    }
   ],
   "source": [
    "data['lyrics'][0].split('\\n')"
   ]
  },
  {
   "cell_type": "code",
   "execution_count": 6,
   "metadata": {},
   "outputs": [
    {
     "data": {
      "text/plain": [
       "array(['Pop', 'Hip-Hop', 'Not Available', 'Other', 'Rock', 'Metal',\n",
       "       'Country', 'Jazz', 'Electronic', 'Folk', 'R&B', 'Indie'], dtype=object)"
      ]
     },
     "execution_count": 6,
     "metadata": {},
     "output_type": "execute_result"
    }
   ],
   "source": [
    "data['genre'].unique()"
   ]
  },
  {
   "cell_type": "code",
   "execution_count": 136,
   "metadata": {},
   "outputs": [
    {
     "name": "stdout",
     "output_type": "stream",
     "text": [
      "b\" h@l'oU w'3:ld\\n\"\n"
     ]
    }
   ],
   "source": [
    "print(check_output([\"espeak\", \"-q\", \"-x\", '-v', 'en-us', 'hello world']))"
   ]
  },
  {
   "cell_type": "code",
   "execution_count": 131,
   "metadata": {},
   "outputs": [
    {
     "data": {
      "text/plain": [
       "\" h@l'oU_ w'3:ld_\\n\""
      ]
     },
     "execution_count": 131,
     "metadata": {},
     "output_type": "execute_result"
    }
   ],
   "source": [
    "es = espeak.ESpeak()\n",
    "es.say('hello world')"
   ]
  },
  {
   "cell_type": "code",
   "execution_count": null,
   "metadata": {
    "collapsed": true
   },
   "outputs": [],
   "source": []
  }
 ],
 "metadata": {
  "kernelspec": {
   "display_name": "Python 3",
   "language": "python",
   "name": "python3"
  },
  "language_info": {
   "codemirror_mode": {
    "name": "ipython",
    "version": 3
   },
   "file_extension": ".py",
   "mimetype": "text/x-python",
   "name": "python",
   "nbconvert_exporter": "python",
   "pygments_lexer": "ipython3",
   "version": "3.6.3"
  }
 },
 "nbformat": 4,
 "nbformat_minor": 2
}
