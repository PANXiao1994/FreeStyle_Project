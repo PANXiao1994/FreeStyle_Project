{
 "cells": [
  {
   "cell_type": "markdown",
   "metadata": {},
   "source": [
    "## PLSA"
   ]
  },
  {
   "cell_type": "code",
   "execution_count": 1,
   "metadata": {
    "scrolled": true
   },
   "outputs": [],
   "source": [
    "from PLSA import PLSA\n",
    "from pyspark import SparkContext"
   ]
  },
  {
   "cell_type": "code",
   "execution_count": 2,
   "metadata": {},
   "outputs": [],
   "source": [
    "sc = SparkContext()"
   ]
  },
  {
   "cell_type": "code",
   "execution_count": 3,
   "metadata": {
    "scrolled": true
   },
   "outputs": [],
   "source": [
    "#data = sc.textFile(\"/Users/panxiao/IdeaProjects/lyric_project/input/lyrics.csv\")\n",
    "data = sc.textFile(\"lyr.txt\")\n",
    "data1 = sc.parallelize(data.take(1000))"
   ]
  },
  {
   "cell_type": "code",
   "execution_count": 4,
   "metadata": {
    "scrolled": false
   },
   "outputs": [],
   "source": [
    "plsa = PLSA(data=data1,sc=sc,k=5,max_itr=10,is_test=True)"
   ]
  },
  {
   "cell_type": "code",
   "execution_count": 5,
   "metadata": {},
   "outputs": [
    {
     "name": "stdout",
     "output_type": "stream",
     "text": [
      "L(0)=-2248692.32932\n",
      "L(1)=-1645058.13656 with 26.843788% improvement\n",
      "L(2)=-1637658.61140 with 0.449803% improvement\n",
      "L(3)=-1629458.28643 with 0.500735% improvement\n",
      "L(4)=-1620273.98925 with 0.563641% improvement\n",
      "L(5)=-1610897.03310 with 0.578727% improvement\n",
      "L(6)=-1602277.12952 with 0.535100% improvement\n",
      "L(7)=-1594793.73036 with 0.467048% improvement\n",
      "L(8)=-1588468.75640 with 0.396601% improvement\n",
      "L(9)=-1583219.44999 with 0.330463% improvement\n",
      "L(10)=-1578883.26139 with 0.273884% improvement\n"
     ]
    }
   ],
   "source": [
    "plsa.train()\n",
    "plsa.save('topic_word.txt','doc_topic.txt')"
   ]
  },
  {
   "cell_type": "code",
   "execution_count": null,
   "metadata": {
    "collapsed": true
   },
   "outputs": [],
   "source": []
  },
  {
   "cell_type": "code",
   "execution_count": null,
   "metadata": {
    "collapsed": true
   },
   "outputs": [],
   "source": []
  }
 ],
 "metadata": {
  "kernelspec": {
   "display_name": "Python 3",
   "language": "python",
   "name": "python3"
  },
  "language_info": {
   "codemirror_mode": {
    "name": "ipython",
    "version": 3
   },
   "file_extension": ".py",
   "mimetype": "text/x-python",
   "name": "python",
   "nbconvert_exporter": "python",
   "pygments_lexer": "ipython3",
   "version": "3.6.3"
  }
 },
 "nbformat": 4,
 "nbformat_minor": 2
}
